{
  "nbformat": 4,
  "nbformat_minor": 0,
  "metadata": {
    "colab": {
      "name": "bootcamp_viz.ipynb",
      "version": "0.3.2",
      "provenance": [],
      "collapsed_sections": [],
      "include_colab_link": true
    },
    "kernelspec": {
      "name": "python3",
      "display_name": "Python 3"
    }
  },
  "cells": [
    {
      "cell_type": "markdown",
      "metadata": {
        "id": "view-in-github",
        "colab_type": "text"
      },
      "source": [
        "<a href=\"https://colab.research.google.com/github/jamesafranke/computing_bootcamp/blob/master/bootcamp_viz.ipynb\" target=\"_parent\"><img src=\"https://colab.research.google.com/assets/colab-badge.svg\" alt=\"Open In Colab\"/></a>"
      ]
    },
    {
      "cell_type": "markdown",
      "metadata": {
        "id": "PCdVU4bJJD2n",
        "colab_type": "text"
      },
      "source": [
        "# Computing Bootcamp -- Week 2 -- Visualization\n",
        "-- Jim Franke -- jfranke@uchicago.edu"
      ]
    },
    {
      "cell_type": "markdown",
      "metadata": {
        "id": "Dt7bKBFuCb7q",
        "colab_type": "text"
      },
      "source": [
        "## To install basemap\n",
        "#### only run one time at the beginning of opening a notebook\n"
      ]
    },
    {
      "cell_type": "code",
      "metadata": {
        "id": "_Y6NzhA2UnP2",
        "colab_type": "code",
        "colab": {}
      },
      "source": [
        "!apt-get -qq install libgeos-dev\n",
        "!pip install -qq https://github.com/matplotlib/basemap/archive/master.zip"
      ],
      "execution_count": 0,
      "outputs": []
    },
    {
      "cell_type": "code",
      "metadata": {
        "id": "TaT5soD_Eh_r",
        "colab_type": "code",
        "colab": {}
      },
      "source": [
        "# run this cell to mount to the drive\n",
        "from google.colab import drive\n",
        "drive.mount('/content/drive')"
      ],
      "execution_count": 0,
      "outputs": []
    },
    {
      "cell_type": "markdown",
      "metadata": {
        "id": "ch_2qbegzAbT",
        "colab_type": "text"
      },
      "source": [
        "## Import required packages"
      ]
    },
    {
      "cell_type": "code",
      "metadata": {
        "id": "3GRfxPt1_xhF",
        "colab_type": "code",
        "colab": {}
      },
      "source": [
        "# numpy, pandas and plotting\n",
        "import numpy as np\n",
        "import pandas as pd\n",
        "\n",
        "import matplotlib.pylab as plt\n",
        "import matplotlib.gridspec as gridspec\n",
        "from matplotlib.colors import from_levels_and_colors, rgb2hex\n",
        "from mpl_toolkits.basemap import Basemap\n",
        "from mpl_toolkits.mplot3d import Axes3D\n",
        "import seaborn as sns\n",
        "\n",
        "# Toy Datasets\n",
        "from sklearn import datasets"
      ],
      "execution_count": 0,
      "outputs": []
    },
    {
      "cell_type": "markdown",
      "metadata": {
        "id": "JlIPXTqh_ZXq",
        "colab_type": "text"
      },
      "source": [
        "### Toy datasets\n",
        "\n",
        "Scikit learn:\n",
        "1. load_boston (regression).\n",
        "2. load_iris (classification).\n",
        "3. load_diabetes (regression).\n",
        "4. load_digits (classification).\n",
        "5. load_linnerud (multivariate regression).\n",
        "6. load_wine (classification).\n",
        "7. load_breast_cancer (classification).\n",
        "\n",
        "Seaborn:\n",
        "https://github.com/mwaskom/seaborn-data\n"
      ]
    },
    {
      "cell_type": "code",
      "metadata": {
        "id": "lSAjpObu92yJ",
        "colab_type": "code",
        "outputId": "79199b1b-9c74-4143-8163-7a6116b125b5",
        "colab": {
          "base_uri": "https://localhost:8080/",
          "height": 359
        }
      },
      "source": [
        "data = datasets.load_iris()\n",
        "df = pd.DataFrame(data.data, columns = data.feature_names)\n",
        "df['target'] = data.target\n",
        "df.head(10)"
      ],
      "execution_count": 0,
      "outputs": [
        {
          "output_type": "execute_result",
          "data": {
            "text/html": [
              "<div>\n",
              "<style scoped>\n",
              "    .dataframe tbody tr th:only-of-type {\n",
              "        vertical-align: middle;\n",
              "    }\n",
              "\n",
              "    .dataframe tbody tr th {\n",
              "        vertical-align: top;\n",
              "    }\n",
              "\n",
              "    .dataframe thead th {\n",
              "        text-align: right;\n",
              "    }\n",
              "</style>\n",
              "<table border=\"1\" class=\"dataframe\">\n",
              "  <thead>\n",
              "    <tr style=\"text-align: right;\">\n",
              "      <th></th>\n",
              "      <th>sepal length (cm)</th>\n",
              "      <th>sepal width (cm)</th>\n",
              "      <th>petal length (cm)</th>\n",
              "      <th>petal width (cm)</th>\n",
              "      <th>target</th>\n",
              "    </tr>\n",
              "  </thead>\n",
              "  <tbody>\n",
              "    <tr>\n",
              "      <th>0</th>\n",
              "      <td>5.1</td>\n",
              "      <td>3.5</td>\n",
              "      <td>1.4</td>\n",
              "      <td>0.2</td>\n",
              "      <td>0</td>\n",
              "    </tr>\n",
              "    <tr>\n",
              "      <th>1</th>\n",
              "      <td>4.9</td>\n",
              "      <td>3.0</td>\n",
              "      <td>1.4</td>\n",
              "      <td>0.2</td>\n",
              "      <td>0</td>\n",
              "    </tr>\n",
              "    <tr>\n",
              "      <th>2</th>\n",
              "      <td>4.7</td>\n",
              "      <td>3.2</td>\n",
              "      <td>1.3</td>\n",
              "      <td>0.2</td>\n",
              "      <td>0</td>\n",
              "    </tr>\n",
              "    <tr>\n",
              "      <th>3</th>\n",
              "      <td>4.6</td>\n",
              "      <td>3.1</td>\n",
              "      <td>1.5</td>\n",
              "      <td>0.2</td>\n",
              "      <td>0</td>\n",
              "    </tr>\n",
              "    <tr>\n",
              "      <th>4</th>\n",
              "      <td>5.0</td>\n",
              "      <td>3.6</td>\n",
              "      <td>1.4</td>\n",
              "      <td>0.2</td>\n",
              "      <td>0</td>\n",
              "    </tr>\n",
              "    <tr>\n",
              "      <th>5</th>\n",
              "      <td>5.4</td>\n",
              "      <td>3.9</td>\n",
              "      <td>1.7</td>\n",
              "      <td>0.4</td>\n",
              "      <td>0</td>\n",
              "    </tr>\n",
              "    <tr>\n",
              "      <th>6</th>\n",
              "      <td>4.6</td>\n",
              "      <td>3.4</td>\n",
              "      <td>1.4</td>\n",
              "      <td>0.3</td>\n",
              "      <td>0</td>\n",
              "    </tr>\n",
              "    <tr>\n",
              "      <th>7</th>\n",
              "      <td>5.0</td>\n",
              "      <td>3.4</td>\n",
              "      <td>1.5</td>\n",
              "      <td>0.2</td>\n",
              "      <td>0</td>\n",
              "    </tr>\n",
              "    <tr>\n",
              "      <th>8</th>\n",
              "      <td>4.4</td>\n",
              "      <td>2.9</td>\n",
              "      <td>1.4</td>\n",
              "      <td>0.2</td>\n",
              "      <td>0</td>\n",
              "    </tr>\n",
              "    <tr>\n",
              "      <th>9</th>\n",
              "      <td>4.9</td>\n",
              "      <td>3.1</td>\n",
              "      <td>1.5</td>\n",
              "      <td>0.1</td>\n",
              "      <td>0</td>\n",
              "    </tr>\n",
              "  </tbody>\n",
              "</table>\n",
              "</div>"
            ],
            "text/plain": [
              "   sepal length (cm)  sepal width (cm)  ...  petal width (cm)  target\n",
              "0                5.1               3.5  ...               0.2       0\n",
              "1                4.9               3.0  ...               0.2       0\n",
              "2                4.7               3.2  ...               0.2       0\n",
              "3                4.6               3.1  ...               0.2       0\n",
              "4                5.0               3.6  ...               0.2       0\n",
              "5                5.4               3.9  ...               0.4       0\n",
              "6                4.6               3.4  ...               0.3       0\n",
              "7                5.0               3.4  ...               0.2       0\n",
              "8                4.4               2.9  ...               0.2       0\n",
              "9                4.9               3.1  ...               0.1       0\n",
              "\n",
              "[10 rows x 5 columns]"
            ]
          },
          "metadata": {
            "tags": []
          },
          "execution_count": 226
        }
      ]
    },
    {
      "cell_type": "markdown",
      "metadata": {
        "id": "GT2kVDAGzJq9",
        "colab_type": "text"
      },
      "source": [
        "## Making simple plots directly in pandas\n",
        "\n",
        "https://pandas.pydata.org/pandas-docs/stable/user_guide/visualization.html"
      ]
    },
    {
      "cell_type": "code",
      "metadata": {
        "id": "8z83-kOgzMiB",
        "colab_type": "code",
        "outputId": "1e41bf73-20cb-4437-be69-1d408020ff51",
        "colab": {
          "base_uri": "https://localhost:8080/",
          "height": 300
        }
      },
      "source": [
        "fig = plt.figure(figsize=(5,5))\n",
        "df.plot.scatter(x = 'sepal length (cm)', \n",
        "                y = 'sepal width (cm)'\n",
        "               )\n",
        "plt.show()"
      ],
      "execution_count": 0,
      "outputs": [
        {
          "output_type": "display_data",
          "data": {
            "text/plain": [
              "<Figure size 360x360 with 0 Axes>"
            ]
          },
          "metadata": {
            "tags": []
          }
        },
        {
          "output_type": "display_data",
          "data": {
            "image/png": "[encoded data removed]",
            "text/plain": [
              "<Figure size 432x288 with 1 Axes>"
            ]
          },
          "metadata": {
            "tags": []
          }
        }
      ]
    },
    {
      "cell_type": "code",
      "metadata": {
        "id": "kP2XOnyEB_EU",
        "colab_type": "code",
        "outputId": "9a398982-7c20-4095-da7a-75bc2a520de3",
        "colab": {
          "base_uri": "https://localhost:8080/",
          "height": 275
        }
      },
      "source": [
        "fig = plt.figure(figsize=(5,5))\n",
        "\n",
        "df.plot.scatter(x = 'sepal length (cm)', \n",
        "                y = 'sepal width (cm)', \n",
        "                c = 'petal length (cm)', cmap= plt.cm.viridis\n",
        "               )\n",
        "plt.show()"
      ],
      "execution_count": 0,
      "outputs": [
        {
          "output_type": "display_data",
          "data": {
            "text/plain": [
              "<Figure size 360x360 with 0 Axes>"
            ]
          },
          "metadata": {
            "tags": []
          }
        },
        {
          "output_type": "display_data",
          "data": {
            "image/png": "[encoded data removed]",
            "text/plain": [
              "<Figure size 432x288 with 2 Axes>"
            ]
          },
          "metadata": {
            "tags": []
          }
        }
      ]
    },
    {
      "cell_type": "code",
      "metadata": {
        "id": "ztoomVWpCN65",
        "colab_type": "code",
        "outputId": "d8b02b5b-6e77-45ff-be98-bb9d7dc919e7",
        "colab": {
          "base_uri": "https://localhost:8080/",
          "height": 328
        }
      },
      "source": [
        "fig = plt.figure(figsize=(7,5))\n",
        "\n",
        "df.plot.scatter(c = 'petal length (cm)', cmap= plt.cm.inferno, \n",
        "                s = (df['petal width (cm)']*50),\n",
        "                x = 'sepal length (cm)', \n",
        "                y = 'sepal width (cm)' \n",
        "               )\n",
        "\n",
        "plt.xlabel('sepal lenght (cm)')\n",
        "plt.xlim(4,8)\n",
        "sns.despine(offset=8, trim=True)\n",
        "plt.savefig('test.png', dpi=300)\n",
        "plt.show()"
      ],
      "execution_count": 0,
      "outputs": [
        {
          "output_type": "stream",
          "text": [
            "/usr/local/lib/python3.6/dist-packages/matplotlib/colorbar.py:214: UserWarning: Use the colorbar set_ticks() method instead.\n",
            "  warnings.warn(\"Use the colorbar set_ticks() method instead.\")\n"
          ],
          "name": "stderr"
        },
        {
          "output_type": "display_data",
          "data": {
            "text/plain": [
              "<Figure size 504x360 with 0 Axes>"
            ]
          },
          "metadata": {
            "tags": []
          }
        },
        {
          "output_type": "display_data",
          "data": {
            "image/png": "[encoded data removed]",
            "text/plain": [
              "<Figure size 432x288 with 2 Axes>"
            ]
          },
          "metadata": {
            "tags": []
          }
        }
      ]
    },
    {
      "cell_type": "markdown",
      "metadata": {
        "id": "SCuyaACg7JVm",
        "colab_type": "text"
      },
      "source": [
        "## Gridspec"
      ]
    },
    {
      "cell_type": "code",
      "metadata": {
        "id": "bUpeo6ta7L3F",
        "colab_type": "code",
        "colab": {}
      },
      "source": [
        "fig = plt.figure(figsize=(10,5))\n",
        "gs = gridspec.GridSpec(3, 3)\n",
        "gs.update(wspace=0.05, hspace=0.15)\n",
        "\n",
        "ax = plt.subplot(gs[0,0])"
      ],
      "execution_count": 0,
      "outputs": []
    },
    {
      "cell_type": "markdown",
      "metadata": {
        "id": "ipRN6Fl7OzOK",
        "colab_type": "text"
      },
      "source": [
        "## Seaborn\n",
        "https://seaborn.pydata.org/examples/index.html"
      ]
    },
    {
      "cell_type": "markdown",
      "metadata": {
        "id": "EI7tbqEIebub",
        "colab_type": "text"
      },
      "source": [
        "## Continous examples"
      ]
    },
    {
      "cell_type": "code",
      "metadata": {
        "id": "Gg3ztzkseqsT",
        "colab_type": "code",
        "colab": {}
      },
      "source": [
        ""
      ],
      "execution_count": 0,
      "outputs": []
    },
    {
      "cell_type": "code",
      "metadata": {
        "id": "PIUKcyvBeq3Z",
        "colab_type": "code",
        "colab": {}
      },
      "source": [
        ""
      ],
      "execution_count": 0,
      "outputs": []
    },
    {
      "cell_type": "markdown",
      "metadata": {
        "id": "TeiUDP-Qebeo",
        "colab_type": "text"
      },
      "source": [
        "## Discrete examples"
      ]
    },
    {
      "cell_type": "code",
      "metadata": {
        "id": "uJxbDJ8Uerkz",
        "colab_type": "code",
        "colab": {}
      },
      "source": [
        ""
      ],
      "execution_count": 0,
      "outputs": []
    },
    {
      "cell_type": "code",
      "metadata": {
        "id": "MhLazTQBerum",
        "colab_type": "code",
        "colab": {}
      },
      "source": [
        ""
      ],
      "execution_count": 0,
      "outputs": []
    },
    {
      "cell_type": "markdown",
      "metadata": {
        "id": "f8tbs72VkxGj",
        "colab_type": "text"
      },
      "source": [
        "## Colormaps\n",
        "https://matplotlib.org/users/colormaps.html\n",
        "\n",
        "http://colorbrewer2.org/#type=diverging&scheme=Spectral&n=11"
      ]
    },
    {
      "cell_type": "code",
      "metadata": {
        "id": "i1a8I2sgV6c4",
        "colab_type": "code",
        "colab": {}
      },
      "source": [
        "########### User segmented colormap ###########################\n",
        "def segcolor(cmap, num_level, diverge = True, preview = False):\n",
        "    # Discretizes one of python's built-in continious colormaps at any number of levels you choose\n",
        "    # cmap: plt.cm.*name of colormap*  (CaSe SeNsiTiVe!!) \n",
        "    # num_level: int, number of segments you want in your colormap, if diverging... number on each side of midpoint\n",
        "    colormap = []\n",
        "    for i in range(cmap.N): colormap.append(rgb2hex(cmap(i)[:3]))                                        # will return rgba, we take only first 3 so we get rgb\n",
        "    colormap = np.array(colormap).reshape((1, len(colormap))).flatten()\n",
        "\n",
        "    if diverge == True:\n",
        "        low  = colormap[np.round(np.linspace(0, 126, num_level+1)).astype(int)].tolist()\n",
        "        high = colormap[np.round(np.linspace(127, len(colormap) - 1, num_level+1)).astype(int)].tolist()\n",
        "        colorout = np.hstack([low[:-1],'white',high[1:]]).tolist()\n",
        "\n",
        "    else: colorout = colormap[np.round(np.linspace(0, len(colormap) - 1, num_level)).astype(int)].tolist()\n",
        "\n",
        "    if preview == True:\n",
        "        fig = plt.figure(figsize=((len(colorout)-1)/2,0.5))\n",
        "        for i in range(len(colorout)): \n",
        "            plt.scatter(i, 0, facecolor = colorout[i], edgecolor = 'black', s = 500, marker = 's')\n",
        "        plt.yticks([])\n",
        "        plt.xticks([])\n",
        "        plt.xlim(-0.51, i+0.5)\n",
        "        plt.show()\n",
        "    else: pass\n",
        "    return(colorout)"
      ],
      "execution_count": 0,
      "outputs": []
    },
    {
      "cell_type": "code",
      "metadata": {
        "id": "96F3jrIRo2lx",
        "colab_type": "code",
        "outputId": "f11dfee2-00df-46c5-8482-f8ab87c49e54",
        "colab": {
          "base_uri": "https://localhost:8080/",
          "height": 305
        }
      },
      "source": [
        "### **GOOD** Colormaps ###\n",
        "### Diverging\n",
        "x = segcolor(plt.cm.Spectral, 5, True, True)\n",
        "x = segcolor(plt.cm.BrBG, 5, True, True)\n",
        "x = segcolor(plt.cm.RdBu, 5, True, True)\n",
        "\n",
        "### Sequential\n",
        "x = segcolor(plt.cm.viridis, 11, False, True)\n",
        "x = segcolor(plt.cm.inferno, 11, False, True)\n",
        "x = segcolor(plt.cm.cubehelix, 11, False, True)"
      ],
      "execution_count": 0,
      "outputs": [
        {
          "output_type": "display_data",
          "data": {
            "image/png": "[encoded data removed]",
            "text/plain": [
              "<Figure size 360x36 with 1 Axes>"
            ]
          },
          "metadata": {
            "tags": []
          }
        },
        {
          "output_type": "display_data",
          "data": {
            "image/png": "[encoded data removed]",
            "text/plain": [
              "<Figure size 360x36 with 1 Axes>"
            ]
          },
          "metadata": {
            "tags": []
          }
        },
        {
          "output_type": "display_data",
          "data": {
            "image/png": "[encoded data removed]",
            "text/plain": [
              "<Figure size 360x36 with 1 Axes>"
            ]
          },
          "metadata": {
            "tags": []
          }
        },
        {
          "output_type": "display_data",
          "data": {
            "image/png": "[encoded data removed]",
            "text/plain": [
              "<Figure size 360x36 with 1 Axes>"
            ]
          },
          "metadata": {
            "tags": []
          }
        },
        {
          "output_type": "display_data",
          "data": {
            "image/png": "[encoded data removed]",
            "text/plain": [
              "<Figure size 360x36 with 1 Axes>"
            ]
          },
          "metadata": {
            "tags": []
          }
        },
        {
          "output_type": "display_data",
          "data": {
            "image/png": "[encoded data removed]",
            "text/plain": [
              "<Figure size 360x36 with 1 Axes>"
            ]
          },
          "metadata": {
            "tags": []
          }
        }
      ]
    },
    {
      "cell_type": "markdown",
      "metadata": {
        "id": "rlNzLdr7yiuX",
        "colab_type": "text"
      },
      "source": [
        "## Plotting on a map"
      ]
    },
    {
      "cell_type": "code",
      "metadata": {
        "id": "gDNZ475B4leh",
        "colab_type": "code",
        "colab": {}
      },
      "source": [
        ""
      ],
      "execution_count": 0,
      "outputs": []
    },
    {
      "cell_type": "code",
      "metadata": {
        "id": "qYdxh5xXV6fq",
        "colab_type": "code",
        "outputId": "662bf924-5791-4b2d-f331-0388c37706ca",
        "colab": {
          "base_uri": "https://localhost:8080/",
          "height": 222
        }
      },
      "source": [
        "ll = -48; ul = 68; llo = -130; ulo = 165\n",
        "var1 = np.zeros((360,720))\n",
        "\n",
        "#m = Basemap(projection='cyl',llcrnrlat=ll,urcrnrlat=ul,llcrnrlon=llo,urcrnrlon=ulo,resolution='c')\n",
        "m = Basemap(projection='eck4', lon_0 = 0 , resolution='c')\n",
        "lat = np.linspace(90,-90, var1.shape[0])\n",
        "lon = np.linspace(-180,180, var1.shape[1])\n",
        "lon2d, lat2d = np.meshgrid(lon, lat)\n",
        "x, y = m(lon2d, lat2d)\n",
        "m.drawmapboundary(fill_color='white', color='black', linewidth=0.5)\n",
        "m.drawcoastlines(linewidth=0.2, color='black')\n",
        "m.drawcountries(linewidth=0.2, color='black')"
      ],
      "execution_count": 0,
      "outputs": [
        {
          "output_type": "execute_result",
          "data": {
            "text/plain": [
              "<matplotlib.collections.LineCollection at 0x7f1763ff0b38>"
            ]
          },
          "metadata": {
            "tags": []
          },
          "execution_count": 20
        },
        {
          "output_type": "display_data",
          "data": {
            "image/png": "[encoded data removed]",
            "text/plain": [
              "<Figure size 432x288 with 1 Axes>"
            ]
          },
          "metadata": {
            "tags": []
          }
        }
      ]
    },
    {
      "cell_type": "markdown",
      "metadata": {
        "id": "ltnIN8MyK02n",
        "colab_type": "text"
      },
      "source": [
        "## Animations"
      ]
    },
    {
      "cell_type": "code",
      "metadata": {
        "id": "tIxvq4NRu1r2",
        "colab_type": "code",
        "colab": {}
      },
      "source": [
        ""
      ],
      "execution_count": 0,
      "outputs": []
    },
    {
      "cell_type": "markdown",
      "metadata": {
        "id": "Sm3xbVMW-ajw",
        "colab_type": "text"
      },
      "source": [
        "# SKLEARN PCA"
      ]
    },
    {
      "cell_type": "code",
      "metadata": {
        "id": "_dSoqjzYu1iH",
        "colab_type": "code",
        "colab": {}
      },
      "source": [
        "from sklearn.decomposition import PCA\n",
        "\n",
        "# import some data to play with\n",
        "iris = datasets.load_iris()\n",
        "X = iris.data[:, :2]  # we only take the first two features.\n",
        "y = iris.target\n",
        "\n",
        "x_min, x_max = X[:, 0].min() - .5, X[:, 0].max() + .5\n",
        "y_min, y_max = X[:, 1].min() - .5, X[:, 1].max() + .5\n",
        "\n",
        "plt.figure(2, figsize=(8, 6))\n",
        "plt.clf()\n",
        "\n",
        "# Plot the training points\n",
        "plt.scatter(X[:, 0], X[:, 1], c=y, cmap=plt.cm.Set1,\n",
        "            edgecolor='k')\n",
        "plt.xlabel('Sepal length')\n",
        "plt.ylabel('Sepal width')\n",
        "\n",
        "plt.xlim(x_min, x_max)\n",
        "plt.ylim(y_min, y_max)\n",
        "plt.xticks(())\n",
        "plt.yticks(())\n",
        "\n",
        "# To getter a better understanding of interaction of the dimensions\n",
        "# plot the first three PCA dimensions\n",
        "fig = plt.figure(1, figsize=(8, 6))\n",
        "ax = Axes3D(fig, elev=-150, azim=110)\n",
        "X_reduced = PCA(n_components=3).fit_transform(iris.data)\n",
        "ax.scatter(X_reduced[:, 0], X_reduced[:, 1], X_reduced[:, 2], c=y,\n",
        "           cmap=plt.cm.Set1, edgecolor='k', s=40)\n",
        "ax.set_title(\"First three PCA directions\")\n",
        "ax.set_xlabel(\"1st eigenvector\")\n",
        "ax.w_xaxis.set_ticklabels([])\n",
        "ax.set_ylabel(\"2nd eigenvector\")\n",
        "ax.w_yaxis.set_ticklabels([])\n",
        "ax.set_zlabel(\"3rd eigenvector\")\n",
        "ax.w_zaxis.set_ticklabels([])\n",
        "\n",
        "plt.show()"
      ],
      "execution_count": 0,
      "outputs": []
    },
    {
      "cell_type": "code",
      "metadata": {
        "id": "sbaHvVLX4jj8",
        "colab_type": "code",
        "colab": {}
      },
      "source": [
        ""
      ],
      "execution_count": 0,
      "outputs": []
    },
    {
      "cell_type": "code",
      "metadata": {
        "id": "DOidET_o-uRJ",
        "colab_type": "code",
        "colab": {}
      },
      "source": [
        ""
      ],
      "execution_count": 0,
      "outputs": []
    }
  ]
}